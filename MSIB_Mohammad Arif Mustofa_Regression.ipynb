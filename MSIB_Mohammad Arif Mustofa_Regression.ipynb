{
 "cells": [
  {
   "cell_type": "code",
   "execution_count": 3,
   "id": "ebbd0d8e",
   "metadata": {},
   "outputs": [],
   "source": [
    "#import library\n",
    "import pandas as pd\n",
    "import numpy as np\n",
    "import matplotlib.pyplot as plt"
   ]
  },
  {
   "cell_type": "code",
   "execution_count": 4,
   "id": "fef7feb7",
   "metadata": {},
   "outputs": [
    {
     "data": {
      "text/html": [
       "<div>\n",
       "<style scoped>\n",
       "    .dataframe tbody tr th:only-of-type {\n",
       "        vertical-align: middle;\n",
       "    }\n",
       "\n",
       "    .dataframe tbody tr th {\n",
       "        vertical-align: top;\n",
       "    }\n",
       "\n",
       "    .dataframe thead th {\n",
       "        text-align: right;\n",
       "    }\n",
       "</style>\n",
       "<table border=\"1\" class=\"dataframe\">\n",
       "  <thead>\n",
       "    <tr style=\"text-align: right;\">\n",
       "      <th></th>\n",
       "      <th>Height</th>\n",
       "      <th>Weight</th>\n",
       "    </tr>\n",
       "  </thead>\n",
       "  <tbody>\n",
       "    <tr>\n",
       "      <th>0</th>\n",
       "      <td>1.47</td>\n",
       "      <td>52.21</td>\n",
       "    </tr>\n",
       "    <tr>\n",
       "      <th>1</th>\n",
       "      <td>1.50</td>\n",
       "      <td>53.12</td>\n",
       "    </tr>\n",
       "    <tr>\n",
       "      <th>2</th>\n",
       "      <td>1.52</td>\n",
       "      <td>54.48</td>\n",
       "    </tr>\n",
       "    <tr>\n",
       "      <th>3</th>\n",
       "      <td>1.55</td>\n",
       "      <td>55.84</td>\n",
       "    </tr>\n",
       "    <tr>\n",
       "      <th>4</th>\n",
       "      <td>1.57</td>\n",
       "      <td>57.20</td>\n",
       "    </tr>\n",
       "    <tr>\n",
       "      <th>5</th>\n",
       "      <td>1.60</td>\n",
       "      <td>58.57</td>\n",
       "    </tr>\n",
       "    <tr>\n",
       "      <th>6</th>\n",
       "      <td>1.63</td>\n",
       "      <td>59.93</td>\n",
       "    </tr>\n",
       "    <tr>\n",
       "      <th>7</th>\n",
       "      <td>1.65</td>\n",
       "      <td>61.29</td>\n",
       "    </tr>\n",
       "    <tr>\n",
       "      <th>8</th>\n",
       "      <td>1.68</td>\n",
       "      <td>63.11</td>\n",
       "    </tr>\n",
       "    <tr>\n",
       "      <th>9</th>\n",
       "      <td>1.70</td>\n",
       "      <td>64.47</td>\n",
       "    </tr>\n",
       "    <tr>\n",
       "      <th>10</th>\n",
       "      <td>1.73</td>\n",
       "      <td>66.28</td>\n",
       "    </tr>\n",
       "    <tr>\n",
       "      <th>11</th>\n",
       "      <td>1.75</td>\n",
       "      <td>68.10</td>\n",
       "    </tr>\n",
       "    <tr>\n",
       "      <th>12</th>\n",
       "      <td>1.78</td>\n",
       "      <td>69.92</td>\n",
       "    </tr>\n",
       "    <tr>\n",
       "      <th>13</th>\n",
       "      <td>1.80</td>\n",
       "      <td>72.19</td>\n",
       "    </tr>\n",
       "    <tr>\n",
       "      <th>14</th>\n",
       "      <td>1.83</td>\n",
       "      <td>74.46</td>\n",
       "    </tr>\n",
       "  </tbody>\n",
       "</table>\n",
       "</div>"
      ],
      "text/plain": [
       "    Height  Weight\n",
       "0     1.47   52.21\n",
       "1     1.50   53.12\n",
       "2     1.52   54.48\n",
       "3     1.55   55.84\n",
       "4     1.57   57.20\n",
       "5     1.60   58.57\n",
       "6     1.63   59.93\n",
       "7     1.65   61.29\n",
       "8     1.68   63.11\n",
       "9     1.70   64.47\n",
       "10    1.73   66.28\n",
       "11    1.75   68.10\n",
       "12    1.78   69.92\n",
       "13    1.80   72.19\n",
       "14    1.83   74.46"
      ]
     },
     "execution_count": 4,
     "metadata": {},
     "output_type": "execute_result"
    }
   ],
   "source": [
    "#membaca dataset\n",
    "dataset = pd.read_csv('data.csv', sep=',')\n",
    "dataset"
   ]
  },
  {
   "cell_type": "code",
   "execution_count": 5,
   "id": "25a3581c",
   "metadata": {},
   "outputs": [
    {
     "name": "stdout",
     "output_type": "stream",
     "text": [
      "[[1.47]\n",
      " [1.5 ]\n",
      " [1.52]\n",
      " [1.55]\n",
      " [1.57]\n",
      " [1.6 ]\n",
      " [1.63]\n",
      " [1.65]\n",
      " [1.68]\n",
      " [1.7 ]\n",
      " [1.73]\n",
      " [1.75]\n",
      " [1.78]\n",
      " [1.8 ]\n",
      " [1.83]]\n",
      "[52.21 53.12 54.48 55.84 57.2  58.57 59.93 61.29 63.11 64.47 66.28 68.1\n",
      " 69.92 72.19 74.46]\n"
     ]
    }
   ],
   "source": [
    "x = dataset.iloc[:,:-1].values\n",
    "y = dataset.iloc[:,1].values\n",
    "print(x)\n",
    "print(y)"
   ]
  },
  {
   "cell_type": "code",
   "execution_count": 6,
   "id": "6097f4e4",
   "metadata": {},
   "outputs": [
    {
     "data": {
      "text/plain": [
       "<bound method NDFrame.head of     Height  Weight\n",
       "0     1.47   52.21\n",
       "1     1.50   53.12\n",
       "2     1.52   54.48\n",
       "3     1.55   55.84\n",
       "4     1.57   57.20\n",
       "5     1.60   58.57\n",
       "6     1.63   59.93\n",
       "7     1.65   61.29\n",
       "8     1.68   63.11\n",
       "9     1.70   64.47\n",
       "10    1.73   66.28\n",
       "11    1.75   68.10\n",
       "12    1.78   69.92\n",
       "13    1.80   72.19\n",
       "14    1.83   74.46>"
      ]
     },
     "execution_count": 6,
     "metadata": {},
     "output_type": "execute_result"
    }
   ],
   "source": [
    "dataframe = pd.DataFrame(dataset)\n",
    "dataframe.head"
   ]
  },
  {
   "cell_type": "code",
   "execution_count": 7,
   "id": "03672536",
   "metadata": {},
   "outputs": [],
   "source": [
    "#Split Data\n",
    "from sklearn.model_selection import train_test_split\n",
    "x_train, x_test, y_train, y_test = train_test_split(x, y, test_size=0.2, random_state=7)"
   ]
  },
  {
   "cell_type": "markdown",
   "id": "4fe76049",
   "metadata": {},
   "source": [
    "# Linear Regression "
   ]
  },
  {
   "cell_type": "code",
   "execution_count": 8,
   "id": "b41d6c9b",
   "metadata": {},
   "outputs": [
    {
     "data": {
      "text/plain": [
       "LinearRegression()"
      ]
     },
     "execution_count": 8,
     "metadata": {},
     "output_type": "execute_result"
    }
   ],
   "source": [
    "from sklearn.linear_model import LinearRegression\n",
    "regressor = LinearRegression()\n",
    "regressor.fit(x_train, y_train)"
   ]
  },
  {
   "cell_type": "markdown",
   "id": "7b5bb2ed",
   "metadata": {},
   "source": [
    "#Melakukan Prediksi Hasil Test"
   ]
  },
  {
   "cell_type": "code",
   "execution_count": 9,
   "id": "e627748d",
   "metadata": {},
   "outputs": [
    {
     "name": "stdout",
     "output_type": "stream",
     "text": [
      "[64.04011967 59.10910775 67.12200212]\n"
     ]
    }
   ],
   "source": [
    "y_pred = regressor.predict(x_test)\n",
    "print(y_pred)"
   ]
  },
  {
   "cell_type": "markdown",
   "id": "c7f887d7",
   "metadata": {},
   "source": [
    "#Evaluasi hasil Linear Regression"
   ]
  },
  {
   "cell_type": "code",
   "execution_count": 10,
   "id": "f460a512",
   "metadata": {},
   "outputs": [
    {
     "name": "stdout",
     "output_type": "stream",
     "text": [
      "[63.11 58.57 66.28]\n",
      "[64.04011967 59.10910775 67.12200212]\n",
      "RMSE LR= 0.7884007767348327\n"
     ]
    }
   ],
   "source": [
    "from sklearn.metrics import mean_squared_error\n",
    "from math import sqrt\n",
    "\n",
    "print(y_test)\n",
    "print(y_pred)\n",
    "\n",
    "print('RMSE LR=', sqrt(mean_squared_error(y_test, y_pred)))"
   ]
  },
  {
   "cell_type": "markdown",
   "id": "512815a0",
   "metadata": {},
   "source": [
    "#Visualisasi Data"
   ]
  },
  {
   "cell_type": "code",
   "execution_count": 11,
   "id": "8f821d36",
   "metadata": {},
   "outputs": [
    {
     "data": {
      "image/png": "[encoded data removed]",
      "text/plain": [
       "<Figure size 432x288 with 1 Axes>"
      ]
     },
     "metadata": {
      "needs_background": "light"
     },
     "output_type": "display_data"
    }
   ],
   "source": [
    "plt.scatter(dataframe['Height'], dataframe['Weight'])\n",
    "plt.xlabel('Tinggi Badan (m)')\n",
    "plt.ylabel('Berat Badan (kg)')\n",
    "plt.title('Grafik Hasil Penjualan Berdasarkan Tinggi dan Berat Badan')\n",
    "plt.grid()\n",
    "plt.show()"
   ]
  },
  {
   "cell_type": "markdown",
   "id": "52a534d2",
   "metadata": {},
   "source": [
    "#Visualisasi Hasil Machine Learning"
   ]
  },
  {
   "cell_type": "code",
   "execution_count": 12,
   "id": "52ee917b",
   "metadata": {
    "scrolled": false
   },
   "outputs": [
    {
     "data": {
      "image/png": "[encoded data removed]",
      "text/plain": [
       "<Figure size 720x576 with 1 Axes>"
      ]
     },
     "metadata": {
      "needs_background": "light"
     },
     "output_type": "display_data"
    }
   ],
   "source": [
    "#Visualisasi Data Train\n",
    "plt.figure(figsize=(10, 8))\n",
    "\n",
    "#titik biru adalah data observasi\n",
    "plt.scatter(x_train, y_train, color='blue')\n",
    "\n",
    "#membuat redline adalah hasil prediksi machine learning\n",
    "plt.plot(x_train, regressor.predict(x_train), color='red')\n",
    "\n",
    "#memberi judul dan label pada grafik\n",
    "plt.xlabel('Tinggi Badan (m)')\n",
    "plt.ylabel('Berat Badan (kg)')\n",
    "plt.title('Tinggi Badan Terhadap Berat Badan (Training Set)')\n",
    "\n",
    "#menampilkan grafik visualisasi\n",
    "plt.grid()\n",
    "plt.show()"
   ]
  },
  {
   "cell_type": "code",
   "execution_count": 13,
   "id": "d6f59258",
   "metadata": {},
   "outputs": [
    {
     "data": {
      "image/png": "[encoded data removed]",
      "text/plain": [
       "<Figure size 720x576 with 1 Axes>"
      ]
     },
     "metadata": {
      "needs_background": "light"
     },
     "output_type": "display_data"
    }
   ],
   "source": [
    "#Visualisasi Data Test\n",
    "plt.figure(figsize=(10, 8))\n",
    "\n",
    "#titik biru adalah data observasi\n",
    "plt.scatter(x_test, y_test, color='blue')\n",
    "\n",
    "#membuat redline adalah hasil prediksi machine learning\n",
    "plt.plot(x_test, regressor.predict(x_test), color='red')\n",
    "\n",
    "#memberi judul dan label pada grafik\n",
    "plt.xlabel('Tinggi Badan (m)')\n",
    "plt.ylabel('Berat Badan (kg)')\n",
    "plt.title('Tinggi Badan Terhadap Berat Badan (Testing Set)')\n",
    "\n",
    "#menampilkan grafik visualisasi\n",
    "plt.grid()\n",
    "plt.show()"
   ]
  },
  {
   "cell_type": "markdown",
   "id": "899345a7",
   "metadata": {},
   "source": [
    "# Support Vector Regression"
   ]
  },
  {
   "cell_type": "code",
   "execution_count": 14,
   "id": "43cc4105",
   "metadata": {},
   "outputs": [
    {
     "data": {
      "text/plain": [
       "SVR()"
      ]
     },
     "execution_count": 14,
     "metadata": {},
     "output_type": "execute_result"
    }
   ],
   "source": [
    "from sklearn import svm\n",
    "regr = svm.SVR()\n",
    "regr.fit(x_train, y_train)"
   ]
  },
  {
   "cell_type": "code",
   "execution_count": 15,
   "id": "a250f691",
   "metadata": {},
   "outputs": [
    {
     "name": "stdout",
     "output_type": "stream",
     "text": [
      "[63.11 58.57 66.28]\n",
      "[62.76035688 58.53818101 64.712317  ]\n"
     ]
    }
   ],
   "source": [
    "y_pred = regr.predict(x_test)\n",
    "print(y_test)\n",
    "print(y_pred)"
   ]
  },
  {
   "cell_type": "markdown",
   "id": "aae06324",
   "metadata": {},
   "source": [
    "#Evaluasi SVR - RMSE "
   ]
  },
  {
   "cell_type": "code",
   "execution_count": 16,
   "id": "ad5c7747",
   "metadata": {},
   "outputs": [
    {
     "name": "stdout",
     "output_type": "stream",
     "text": [
      "[63.11 58.57 66.28]\n",
      "[62.76035688 58.53818101 64.712317  ]\n",
      "RMSE SVR =  0.9275222811513474\n"
     ]
    }
   ],
   "source": [
    "print(y_test)\n",
    "print(y_pred)\n",
    "\n",
    "print('RMSE SVR = ', sqrt(mean_squared_error(y_test, y_pred)))"
   ]
  },
  {
   "cell_type": "markdown",
   "id": "3061f26e",
   "metadata": {},
   "source": [
    "# KNNRegression"
   ]
  },
  {
   "cell_type": "code",
   "execution_count": 17,
   "id": "a5012afa",
   "metadata": {},
   "outputs": [],
   "source": [
    "from sklearn import neighbors\n",
    "n_neighbors = 3\n",
    "knn = neighbors.KNeighborsRegressor(n_neighbors, weights='uniform')\n",
    "y_pred = knn.fit(x_train, y_train).predict(x_test)"
   ]
  },
  {
   "cell_type": "code",
   "execution_count": 18,
   "id": "bb06c56d",
   "metadata": {},
   "outputs": [
    {
     "name": "stdout",
     "output_type": "stream",
     "text": [
      "[63.11 58.57 66.28]\n",
      "[61.89666667 59.47333333 67.49666667]\n",
      "RMSE KNNR =  1.1207834561392993\n"
     ]
    }
   ],
   "source": [
    "from sklearn.metrics import mean_squared_error\n",
    "from math import sqrt\n",
    "print(y_test)\n",
    "print(y_pred)\n",
    "\n",
    "print('RMSE KNNR = ', sqrt(mean_squared_error(y_test, y_pred)))"
   ]
  },
  {
   "cell_type": "markdown",
   "id": "b05dabef",
   "metadata": {},
   "source": [
    "# MLP Regression"
   ]
  },
  {
   "cell_type": "code",
   "execution_count": 19,
   "id": "a6dcd93d",
   "metadata": {},
   "outputs": [
    {
     "name": "stderr",
     "output_type": "stream",
     "text": [
      "C:\\Users\\lenovo\\.conda\\envs\\Data1\\lib\\site-packages\\sklearn\\neural_network\\_multilayer_perceptron.py:692: ConvergenceWarning: Stochastic Optimizer: Maximum iterations (5000) reached and the optimization hasn't converged yet.\n",
      "  warnings.warn(\n"
     ]
    }
   ],
   "source": [
    "from sklearn.neural_network import MLPRegressor\n",
    "regr = MLPRegressor(random_state=1, max_iter=5000).fit(x_train, y_train)\n",
    "y_pred = regr.predict(x_test)"
   ]
  },
  {
   "cell_type": "code",
   "execution_count": 20,
   "id": "d7d41cfc",
   "metadata": {},
   "outputs": [
    {
     "name": "stdout",
     "output_type": "stream",
     "text": [
      "[63.11 58.57 66.28]\n",
      "[63.31830778 60.50057759 65.07938915]\n",
      "RSME MLPR =  1.3180779406034457\n"
     ]
    }
   ],
   "source": [
    "from sklearn.metrics import mean_squared_error\n",
    "from math import sqrt\n",
    "\n",
    "print(y_test)\n",
    "print(y_pred)\n",
    "\n",
    "print('RSME MLPR = ', sqrt(mean_squared_error(y_test, y_pred)))"
   ]
  },
  {
   "cell_type": "markdown",
   "id": "3c1b8101",
   "metadata": {},
   "source": [
    "# HASIL ANALISIS"
   ]
  },
  {
   "cell_type": "markdown",
   "id": "0d58e436",
   "metadata": {},
   "source": [
    "Data yang saya angkat berasal dari kaggle yang menyatakan hubungan antara berat badan dan tinggi badan dari 15 orang. \n",
    "Dari hasil yang didapatkan nilai RMSE merupakan evaluasi model. Dari program yang dilakukan saya mencoba menentukan nilai RMSE untuk setiap model regresi \n",
    "Regresi linear didapatkan nilai RMSE sebesar 0.7884, untuk Regresi SVR didapatkan niali RMSE sebesar 0.9275, untuk Regresi KNN didapatkan besarnya nilai RMSE adalah 1.1207 dan untuk Regresi MLP didapatkan nilai sebesar 1.3180.\n",
    "Nilai RMSE (root mean squared error) yang digunakan sebagai kriteria penting dalam menentukan suatu model tersebut berpeforma baik atau tidak dan nilai RMSE yang terbaik yaitu mendekati nilai 0. pada hasil yang didapatkan maka dapat disimpulkan bahwa model yang bagus untuk kasus prediksi regresi data yang saya pakai ini adalah menggunakan Regresi Linear dengan nilai RMSE 0.7884. "
   ]
  }
 ],
 "metadata": {
  "kernelspec": {
   "display_name": "Python 3 (ipykernel)",
   "language": "python",
   "name": "python3"
  },
  "language_info": {
   "codemirror_mode": {
    "name": "ipython",
    "version": 3
   },
   "file_extension": ".py",
   "mimetype": "text/x-python",
   "name": "python",
   "nbconvert_exporter": "python",
   "pygments_lexer": "ipython3",
   "version": "3.9.7"
  }
 },
 "nbformat": 4,
 "nbformat_minor": 5
}
